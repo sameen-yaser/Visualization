{
  "nbformat": 4,
  "nbformat_minor": 0,
  "metadata": {
    "colab": {
      "provenance": []
    },
    "kernelspec": {
      "name": "python3",
      "display_name": "Python 3"
    },
    "language_info": {
      "name": "python"
    }
  },
  "cells": [
    {
      "cell_type": "code",
      "execution_count": 4,
      "metadata": {
        "colab": {
          "base_uri": "https://localhost:8080/"
        },
        "id": "KOjJ49vk3rqy",
        "outputId": "b11c9414-4128-47f9-e88c-108ff35a9ee0"
      },
      "outputs": [
        {
          "output_type": "stream",
          "name": "stdout",
          "text": [
            "     id                                              name  host_id  \\\n",
            "0  2539                Clean & quiet apt home by the park     2787   \n",
            "1  2595                             Skylit Midtown Castle     2845   \n",
            "2  3647               THE VILLAGE OF HARLEM....NEW YORK !     4632   \n",
            "3  3831                   Cozy Entire Floor of Brownstone     4869   \n",
            "4  5022  Entire Apt: Spacious Studio/Loft by central park     7192   \n",
            "\n",
            "     host_name neighbourhood_group neighbourhood  latitude  longitude  \\\n",
            "0         John            Brooklyn    Kensington  40.64749  -73.97237   \n",
            "1     Jennifer           Manhattan       Midtown  40.75362  -73.98377   \n",
            "2    Elisabeth           Manhattan        Harlem  40.80902  -73.94190   \n",
            "3  LisaRoxanne            Brooklyn  Clinton Hill  40.68514  -73.95976   \n",
            "4        Laura           Manhattan   East Harlem  40.79851  -73.94399   \n",
            "\n",
            "         room_type  price  minimum_nights  number_of_reviews last_review  \\\n",
            "0     Private room    149               1                  9  2018-10-19   \n",
            "1  Entire home/apt    225               1                 45  2019-05-21   \n",
            "2     Private room    150               3                  0         NaN   \n",
            "3  Entire home/apt     89               1                270  2019-07-05   \n",
            "4  Entire home/apt     80              10                  9  2018-11-19   \n",
            "\n",
            "   reviews_per_month  calculated_host_listings_count  availability_365  \n",
            "0               0.21                               6               365  \n",
            "1               0.38                               2               355  \n",
            "2                NaN                               1               365  \n",
            "3               4.64                               1               194  \n",
            "4               0.10                               1                 0  \n"
          ]
        }
      ],
      "source": [
        "import pandas as pd\n",
        "df = pd.read_csv('AB_NYC_2019.csv')\n",
        "print(df.head())"
      ]
    },
    {
      "cell_type": "code",
      "source": [
        "# Task 2: Preprocess the data and handle missing values or inconsistencies\n",
        "\n",
        "# Check for missing values\n",
        "missing_values = df.isnull().sum()\n",
        "print(\"Missing Values:\")\n",
        "print(missing_values)\n",
        "\n",
        "# Handling missing values: Drop rows with missing values in 'latitude' and 'longitude' columns\n",
        "columns_with_missing_values = ['latitude', 'longitude']\n",
        "df.dropna(subset=columns_with_missing_values, inplace=True)\n",
        "\n",
        "# Handling inconsistencies : Checking for negative 'price' or 'minimum_nights' values\n",
        "inconsistent_price = df[df['price'] < 0]\n",
        "inconsistent_min_nights = df[df['minimum_nights'] < 0]\n",
        "\n",
        "# Display inconsistent rows\n",
        "if not inconsistent_price.empty:\n",
        "    print(\"\\nRows with Negative Price:\")\n",
        "    print(inconsistent_price)\n",
        "if not inconsistent_min_nights.empty:\n",
        "    print(\"\\nRows with Negative Minimum Nights:\")\n",
        "    print(inconsistent_min_nights)\n",
        "\n",
        "# Handle negative 'price' and 'minimum_nights'\n",
        "# For example, set negative values to zero or drop rows depending on your use case\n",
        "df['price'] = df['price'].apply(lambda x: max(x, 0))\n",
        "df['minimum_nights'] = df['minimum_nights'].apply(lambda x: max(x, 0))\n",
        "\n",
        "# Verify the changes after handling missing values and inconsistencies\n",
        "print(\"\\nAfter Handling Missing Values and Inconsistencies:\")\n",
        "print(df.info())"
      ],
      "metadata": {
        "colab": {
          "base_uri": "https://localhost:8080/"
        },
        "id": "lKRjeLQMLvwa",
        "outputId": "0d4fc762-8f52-49fc-c9e1-e97085e86859"
      },
      "execution_count": 5,
      "outputs": [
        {
          "output_type": "stream",
          "name": "stdout",
          "text": [
            "Missing Values:\n",
            "id                                    0\n",
            "name                                 16\n",
            "host_id                               0\n",
            "host_name                            21\n",
            "neighbourhood_group                   0\n",
            "neighbourhood                         0\n",
            "latitude                              0\n",
            "longitude                             0\n",
            "room_type                             0\n",
            "price                                 0\n",
            "minimum_nights                        0\n",
            "number_of_reviews                     0\n",
            "last_review                       10052\n",
            "reviews_per_month                 10052\n",
            "calculated_host_listings_count        0\n",
            "availability_365                      0\n",
            "dtype: int64\n",
            "\n",
            "After Handling Missing Values and Inconsistencies:\n",
            "<class 'pandas.core.frame.DataFrame'>\n",
            "RangeIndex: 48895 entries, 0 to 48894\n",
            "Data columns (total 16 columns):\n",
            " #   Column                          Non-Null Count  Dtype  \n",
            "---  ------                          --------------  -----  \n",
            " 0   id                              48895 non-null  int64  \n",
            " 1   name                            48879 non-null  object \n",
            " 2   host_id                         48895 non-null  int64  \n",
            " 3   host_name                       48874 non-null  object \n",
            " 4   neighbourhood_group             48895 non-null  object \n",
            " 5   neighbourhood                   48895 non-null  object \n",
            " 6   latitude                        48895 non-null  float64\n",
            " 7   longitude                       48895 non-null  float64\n",
            " 8   room_type                       48895 non-null  object \n",
            " 9   price                           48895 non-null  int64  \n",
            " 10  minimum_nights                  48895 non-null  int64  \n",
            " 11  number_of_reviews               48895 non-null  int64  \n",
            " 12  last_review                     38843 non-null  object \n",
            " 13  reviews_per_month               38843 non-null  float64\n",
            " 14  calculated_host_listings_count  48895 non-null  int64  \n",
            " 15  availability_365                48895 non-null  int64  \n",
            "dtypes: float64(3), int64(7), object(6)\n",
            "memory usage: 6.0+ MB\n",
            "None\n"
          ]
        }
      ]
    },
    {
      "cell_type": "code",
      "source": [
        "import folium\n",
        "\n",
        "# Step 3: Create a base map using Folium to represent the geographical area of New York City.\n",
        "\n",
        "# Coordinates for the center of New York City\n",
        "nyc_coordinates = [40.7128, -74.0060]\n",
        "\n",
        "# Create a map object with an initial zoom level of 11\n",
        "nyc_map = folium.Map(location=nyc_coordinates, zoom_start=11)\n",
        "\n",
        "# Display the base map\n",
        "nyc_map\n"
      ],
      "metadata": {
        "colab": {
          "base_uri": "https://localhost:8080/",
          "height": 583
        },
        "id": "6NJyXGeqMczQ",
        "outputId": "af50de4b-482b-4daf-b2d4-696a26f3d750"
      },
      "execution_count": 6,
      "outputs": [
        {
          "output_type": "execute_result",
          "data": {
            "text/plain": [
              "<folium.folium.Map at 0x7a62d61afe20>"
            ],
            "text/html": [
              "<div style=\"width:100%;\"><div style=\"position:relative;width:100%;height:0;padding-bottom:60%;\"><span style=\"color:#565656\">Make this Notebook Trusted to load map: File -> Trust Notebook</span><iframe srcdoc=\"&lt;!DOCTYPE html&gt;\n",
              "&lt;html&gt;\n",
              "&lt;head&gt;\n",
              "    \n",
              "    &lt;meta http-equiv=&quot;content-type&quot; content=&quot;text/html; charset=UTF-8&quot; /&gt;\n",
              "    \n",
              "        &lt;script&gt;\n",
              "            L_NO_TOUCH = false;\n",
              "            L_DISABLE_3D = false;\n",
              "        &lt;/script&gt;\n",
              "    \n",
              "    &lt;style&gt;html, body {width: 100%;height: 100%;margin: 0;padding: 0;}&lt;/style&gt;\n",
              "    &lt;style&gt;#map {position:absolute;top:0;bottom:0;right:0;left:0;}&lt;/style&gt;\n",
              "    &lt;script src=&quot;https://cdn.jsdelivr.net/npm/leaflet@1.9.3/dist/leaflet.js&quot;&gt;&lt;/script&gt;\n",
              "    &lt;script src=&quot;https://code.jquery.com/jquery-1.12.4.min.js&quot;&gt;&lt;/script&gt;\n",
              "    &lt;script src=&quot;https://cdn.jsdelivr.net/npm/bootstrap@5.2.2/dist/js/bootstrap.bundle.min.js&quot;&gt;&lt;/script&gt;\n",
              "    &lt;script src=&quot;https://cdnjs.cloudflare.com/ajax/libs/Leaflet.awesome-markers/2.0.2/leaflet.awesome-markers.js&quot;&gt;&lt;/script&gt;\n",
              "    &lt;link rel=&quot;stylesheet&quot; href=&quot;https://cdn.jsdelivr.net/npm/leaflet@1.9.3/dist/leaflet.css&quot;/&gt;\n",
              "    &lt;link rel=&quot;stylesheet&quot; href=&quot;https://cdn.jsdelivr.net/npm/bootstrap@5.2.2/dist/css/bootstrap.min.css&quot;/&gt;\n",
              "    &lt;link rel=&quot;stylesheet&quot; href=&quot;https://netdna.bootstrapcdn.com/bootstrap/3.0.0/css/bootstrap.min.css&quot;/&gt;\n",
              "    &lt;link rel=&quot;stylesheet&quot; href=&quot;https://cdn.jsdelivr.net/npm/@fortawesome/fontawesome-free@6.2.0/css/all.min.css&quot;/&gt;\n",
              "    &lt;link rel=&quot;stylesheet&quot; href=&quot;https://cdnjs.cloudflare.com/ajax/libs/Leaflet.awesome-markers/2.0.2/leaflet.awesome-markers.css&quot;/&gt;\n",
              "    &lt;link rel=&quot;stylesheet&quot; href=&quot;https://cdn.jsdelivr.net/gh/python-visualization/folium/folium/templates/leaflet.awesome.rotate.min.css&quot;/&gt;\n",
              "    \n",
              "            &lt;meta name=&quot;viewport&quot; content=&quot;width=device-width,\n",
              "                initial-scale=1.0, maximum-scale=1.0, user-scalable=no&quot; /&gt;\n",
              "            &lt;style&gt;\n",
              "                #map_29449e8d5a99e87bf45144972b8b5af7 {\n",
              "                    position: relative;\n",
              "                    width: 100.0%;\n",
              "                    height: 100.0%;\n",
              "                    left: 0.0%;\n",
              "                    top: 0.0%;\n",
              "                }\n",
              "                .leaflet-container { font-size: 1rem; }\n",
              "            &lt;/style&gt;\n",
              "        \n",
              "&lt;/head&gt;\n",
              "&lt;body&gt;\n",
              "    \n",
              "    \n",
              "            &lt;div class=&quot;folium-map&quot; id=&quot;map_29449e8d5a99e87bf45144972b8b5af7&quot; &gt;&lt;/div&gt;\n",
              "        \n",
              "&lt;/body&gt;\n",
              "&lt;script&gt;\n",
              "    \n",
              "    \n",
              "            var map_29449e8d5a99e87bf45144972b8b5af7 = L.map(\n",
              "                &quot;map_29449e8d5a99e87bf45144972b8b5af7&quot;,\n",
              "                {\n",
              "                    center: [40.7128, -74.006],\n",
              "                    crs: L.CRS.EPSG3857,\n",
              "                    zoom: 11,\n",
              "                    zoomControl: true,\n",
              "                    preferCanvas: false,\n",
              "                }\n",
              "            );\n",
              "\n",
              "            \n",
              "\n",
              "        \n",
              "    \n",
              "            var tile_layer_b9370c6c6791487a338327ab28e4f291 = L.tileLayer(\n",
              "                &quot;https://{s}.tile.openstreetmap.org/{z}/{x}/{y}.png&quot;,\n",
              "                {&quot;attribution&quot;: &quot;Data by \\u0026copy; \\u003ca target=\\&quot;_blank\\&quot; href=\\&quot;http://openstreetmap.org\\&quot;\\u003eOpenStreetMap\\u003c/a\\u003e, under \\u003ca target=\\&quot;_blank\\&quot; href=\\&quot;http://www.openstreetmap.org/copyright\\&quot;\\u003eODbL\\u003c/a\\u003e.&quot;, &quot;detectRetina&quot;: false, &quot;maxNativeZoom&quot;: 18, &quot;maxZoom&quot;: 18, &quot;minZoom&quot;: 0, &quot;noWrap&quot;: false, &quot;opacity&quot;: 1, &quot;subdomains&quot;: &quot;abc&quot;, &quot;tms&quot;: false}\n",
              "            ).addTo(map_29449e8d5a99e87bf45144972b8b5af7);\n",
              "        \n",
              "&lt;/script&gt;\n",
              "&lt;/html&gt;\" style=\"position:absolute;width:100%;height:100%;left:0;top:0;border:none !important;\" allowfullscreen webkitallowfullscreen mozallowfullscreen></iframe></div></div>"
            ]
          },
          "metadata": {},
          "execution_count": 6
        }
      ]
    },
    {
      "cell_type": "code",
      "source": [
        "import folium\n",
        "\n",
        "# Step 3: Create a base map using Folium to represent the geographical area of New York City.\n",
        "nyc_coordinates = [40.7128, -74.0060]\n",
        "nyc_map = folium.Map(location=nyc_coordinates, zoom_start=11)\n",
        "\n",
        "# Step 4: Extract the latitude and longitude coordinates from the dataset and plot them as markers on the map.\n",
        "for index, row in df.iterrows():\n",
        "    listing_coordinates = [row['latitude'], row['longitude']]\n",
        "\n",
        "    # Customize marker icon based on listing type\n",
        "    icon = folium.Icon(color='green' if row['room_type'] == 'Private room' else 'blue')\n",
        "\n",
        "    # Customize marker popup based on listing attributes\n",
        "    popup_text = f\"Name: {row['name']}<br>Price: ${row['price']}<br>Room Type: {row['room_type']}<br>Availability: {row['availability_365']} days\"\n",
        "\n",
        "    # Add marker with popup to the map\n",
        "    marker = folium.Marker(location=listing_coordinates, popup=folium.Popup(popup_text, max_width=200), icon=icon)\n",
        "\n",
        "    # Add tooltip to the marker (displays listing name when hovering over the marker)\n",
        "    tooltip_text = row['name']\n",
        "    tooltip = folium.Tooltip(tooltip_text)\n",
        "    marker.add_child(tooltip)\n",
        "\n",
        "    marker.add_to(nyc_map)\n",
        "\n",
        "\n",
        "# Step 9: Customize the style and layout of the map\n",
        "# Add a legend to the map\n",
        "legend_html = '''\n",
        "     <div style=\"position: fixed; bottom: 50px; left: 50px; z-index:9999; font-size:14px; background-color: white; padding: 10px; border: 2px solid grey; border-radius: 5px;\">\n",
        "         <i class=\"fa fa-circle\" style=\"color: green;\"></i> Private room &nbsp;&nbsp;\n",
        "         <i class=\"fa fa-circle\" style=\"color: blue;\"></i> Entire home/apt\n",
        "     </div>\n",
        "     '''\n",
        "nyc_map.get_root().html.add_child(folium.Element(legend_html))\n",
        "\n",
        "# Set the map background color and tiles\n",
        "nyc_map.get_root().html.add_child(folium.Element('<style> .leaflet-container { background-color: #f0f0f0; } </style>'))\n",
        "folium.TileLayer('cartodbpositron').add_to(nyc_map)\n",
        "\n",
        "\n",
        "# Display the map with the customized markers, tooltips, popups, and additional layers\n",
        "nyc_map\n"
      ],
      "metadata": {
        "id": "J-QcNlUNOmQL"
      },
      "execution_count": 11,
      "outputs": []
    }
  ]
}